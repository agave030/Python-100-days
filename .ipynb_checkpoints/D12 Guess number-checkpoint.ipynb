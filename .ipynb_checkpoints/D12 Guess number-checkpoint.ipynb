{
 "cells": [
  {
   "cell_type": "code",
   "execution_count": 1,
   "metadata": {},
   "outputs": [
    {
     "name": "stdout",
     "output_type": "stream",
     "text": [
      "Welcome to the Number Guessing Game!\n",
      "I'm thinking of a number between 1 and 100.\n",
      "Pssst, the correct answer is 76\n",
      "Choose a difficulty. Type 'easy' or 'hard': easy\n",
      "You have 10 attempts remaining to guess the number\n",
      "Type a number to guess: 36\n",
      "Too low!\n",
      "Guess again.\n",
      "You have 9 attempts remaining to guess the number.\n",
      "Type a number to guess: 47\n",
      "Too low!\n",
      "Guess again.\n",
      "You have 8 attempts remaining to guess the number.\n",
      "Type a number to guess: 67\n",
      "Too low!\n",
      "Guess again.\n",
      "You have 7 attempts remaining to guess the number.\n",
      "Type a number to guess: 76\n",
      "You're right! The answer is 76\n"
     ]
    }
   ],
   "source": [
    "##### Number Guessing Game Objectives:\n",
    "\n",
    "# Include an ASCII art logo.\n",
    "# Allow the player to submit a guess for a number between 1 and 100.\n",
    "# Check  user's guess against actual answer. Print \"Too high.\" or \"Too low.\" depending on the user's answer. \n",
    "# If they got the answer correct, show the actual answer to the player.\n",
    "# Track the number of turns remaining.\n",
    "# If they run out of turns, provide feedback to the player. \n",
    "# Include two different difficulty levels (e.g., 10 guesses in easy mode, only 5 guesses in hard mode).\n",
    "# https://repl.it/@appbrewery/guess-the-number-final?embed=1&output=1#main.py\n",
    "# https://repl.it/@appbrewery/guess-the-number-final#main.py\n",
    "\n",
    "EASY_LEVEL_TURNS = 10\n",
    "HARD_LEVEL_TURNS = 5\n",
    "\n",
    "import random\n",
    "# import art\n",
    "# print(art.logo)\n",
    "\n",
    "random_number = random.randint(1, 100)\n",
    "\n",
    "def compare(actual_number, input_number):\n",
    "    if actual_number > input_number:\n",
    "        print(\"Too low!\")\n",
    "    elif actual_number < input_number:\n",
    "        print(\"Too high!\")\n",
    "    elif actual_number == input_number:\n",
    "        print(f\"You're right! The answer is {actual_number}\")\n",
    "        \n",
    "\n",
    "def retry(difficulty, actual_number):\n",
    "    actual_number = random_number\n",
    "    if difficulty == 'easy':\n",
    "        print(\"You have 10 attempts remaining to guess the number\")\n",
    "        for chance in range(EASY_LEVEL_TURNS - 1, -1, -1):\n",
    "            input_number = int(input(\"Type a number to guess: \"))\n",
    "            compare(actual_number, input_number)\n",
    "            if actual_number == input_number:\n",
    "                break\n",
    "            elif chance != 0:\n",
    "                print(\"Guess again.\")\n",
    "                print(f\"You have {chance} attempts remaining to guess the number.\")\n",
    "            elif chance == 0:\n",
    "                print(\"Game over!\")\n",
    "                break\n",
    "    else:\n",
    "        print(\"You have 5 attempts remaining to guess the number\")\n",
    "        for chance in range(HARD_LEVEL_TURNS - 1, -1, -1):\n",
    "            input_number = int(input(\"Type a number to guess: \"))\n",
    "            compare(actual_number, input_number)\n",
    "            if actual_number == input_number:\n",
    "                break\n",
    "            elif chance != 0:\n",
    "                print(\"Guess again.\")\n",
    "                print(f\"You have {chance} attempts remaining to guess the number.\")\n",
    "            elif chance == 0:\n",
    "                print(\"Game over!\")\n",
    "                break\n",
    "\n",
    "print(\"Welcome to the Number Guessing Game!\\nI'm thinking of a number between 1 and 100.\")\n",
    "print(f\"Pssst, the correct answer is {random_number}\")\n",
    "difficulty = input(\"Choose a difficulty. Type 'easy' or 'hard': \")\n",
    "retry(difficulty, random_number)"
   ]
  },
  {
   "cell_type": "code",
   "execution_count": null,
   "metadata": {},
   "outputs": [],
   "source": []
  }
 ],
 "metadata": {
  "kernelspec": {
   "display_name": "Python 3",
   "language": "python",
   "name": "python3"
  },
  "language_info": {
   "codemirror_mode": {
    "name": "ipython",
    "version": 3
   },
   "file_extension": ".py",
   "mimetype": "text/x-python",
   "name": "python",
   "nbconvert_exporter": "python",
   "pygments_lexer": "ipython3",
   "version": "3.8.5"
  }
 },
 "nbformat": 4,
 "nbformat_minor": 4
}
